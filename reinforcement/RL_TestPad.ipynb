{
 "cells": [
  {
   "cell_type": "code",
   "execution_count": 1,
   "metadata": {},
   "outputs": [],
   "source": [
    "import numpy as np\n",
    "\n",
    "def running_mean(x):\n",
    "    mu = 0\n",
    "    mean_values = []\n",
    "    for k in np.arange(0, len(x)):\n",
    "        # TODO: fill in the update step\n",
    "        k += 1\n",
    "        mu = mu + (1/k)*(np.sum(x[k-1]) - mu)\n",
    "        mean_values.append(mu)\n",
    "    return mean_values"
   ]
  },
  {
   "cell_type": "code",
   "execution_count": 2,
   "metadata": {},
   "outputs": [
    {
     "name": "stdout",
     "output_type": "stream",
     "text": [
      "[2.0, 2.5, 3.0, 4.0, 3.8, 4.0, 4.428571428571429, 4.875, 5.333333333333333, 5.3999999999999995, 5.2727272727272725]\n"
     ]
    }
   ],
   "source": [
    "x = [2, 3, 4, 7, 3, 5, 7, 8, 9, 6, 4]\n",
    "r_mean = running_mean(x)\n",
    "print (r_mean)"
   ]
  },
  {
   "cell_type": "code",
   "execution_count": 3,
   "metadata": {},
   "outputs": [],
   "source": [
    "import numpy as np\n",
    "\n",
    "# This is the sequence (corresponding to successively sampled returns). \n",
    "# Feel free to change it!\n",
    "x = np.hstack((np.ones(10), 10*np.ones(10)))\n",
    "\n",
    "# These are the different step sizes alpha that we will test.  \n",
    "# Feel free to change it!\n",
    "alpha_values = np.arange(0,.3,.01)+.01\n",
    "\n",
    "#########################################################\n",
    "# Please do not change any of the code below this line. #\n",
    "#########################################################\n",
    "\n",
    "def running_mean(x):\n",
    "    mu = 0\n",
    "    mean_values = []\n",
    "    for k in np.arange(0, len(x)):\n",
    "        mu = mu + (1.0/(k+1))*(x[k] - mu)\n",
    "        mean_values.append(mu)\n",
    "    return mean_values\n",
    "    \n",
    "def forgetful_mean(x, alpha):\n",
    "    mu = 0\n",
    "    mean_values = []\n",
    "    for k in np.arange(0, len(x)):\n",
    "        mu = mu + alpha*(x[k] - mu)\n",
    "        mean_values.append(mu)\n",
    "    return mean_values\n",
    "\n",
    "def print_results():\n",
    "    \"\"\"\n",
    "    prints the mean of the sequence \"x\" (as calculated by the\n",
    "    running_mean function), along with analogous results for each value of alpha \n",
    "    in \"alpha_values\" (as calculated by the forgetful_mean function).\n",
    "    \"\"\"\n",
    "    print('The running_mean function returns:', running_mean(x)[-1])\n",
    "    print('The forgetful_mean function returns:')\n",
    "    for alpha in alpha_values:\n",
    "        print(np.round(forgetful_mean(x, alpha)[-1],4), \\\n",
    "        '(alpha={})'.format(np.round(alpha,2)))\n"
   ]
  },
  {
   "cell_type": "code",
   "execution_count": null,
   "metadata": {},
   "outputs": [],
   "source": []
  }
 ],
 "metadata": {
  "kernelspec": {
   "display_name": "Python 3",
   "language": "python",
   "name": "python3"
  },
  "language_info": {
   "codemirror_mode": {
    "name": "ipython",
    "version": 3
   },
   "file_extension": ".py",
   "mimetype": "text/x-python",
   "name": "python",
   "nbconvert_exporter": "python",
   "pygments_lexer": "ipython3",
   "version": "3.6.3"
  }
 },
 "nbformat": 4,
 "nbformat_minor": 2
}
