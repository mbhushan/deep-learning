{
 "cells": [
  {
   "cell_type": "code",
   "execution_count": 1,
   "metadata": {},
   "outputs": [],
   "source": [
    "import numpy as np\n",
    "\n",
    "def running_mean(x):\n",
    "    mu = 0\n",
    "    mean_values = []\n",
    "    for k in np.arange(0, len(x)):\n",
    "        # TODO: fill in the update step\n",
    "        k += 1\n",
    "        mu = mu + (1/k)*(np.sum(x[k-1]) - mu)\n",
    "        mean_values.append(mu)\n",
    "    return mean_values"
   ]
  },
  {
   "cell_type": "code",
   "execution_count": 2,
   "metadata": {},
   "outputs": [
    {
     "name": "stdout",
     "output_type": "stream",
     "text": [
      "[2.0, 2.5, 3.0, 4.0, 3.8, 4.0, 4.428571428571429, 4.875, 5.333333333333333, 5.3999999999999995, 5.2727272727272725]\n"
     ]
    }
   ],
   "source": [
    "x = [2, 3, 4, 7, 3, 5, 7, 8, 9, 6, 4]\n",
    "r_mean = running_mean(x)\n",
    "print (r_mean)"
   ]
  },
  {
   "cell_type": "code",
   "execution_count": null,
   "metadata": {},
   "outputs": [],
   "source": []
  }
 ],
 "metadata": {
  "kernelspec": {
   "display_name": "Python 3",
   "language": "python",
   "name": "python3"
  },
  "language_info": {
   "codemirror_mode": {
    "name": "ipython",
    "version": 3
   },
   "file_extension": ".py",
   "mimetype": "text/x-python",
   "name": "python",
   "nbconvert_exporter": "python",
   "pygments_lexer": "ipython3",
   "version": "3.6.3"
  }
 },
 "nbformat": 4,
 "nbformat_minor": 2
}
